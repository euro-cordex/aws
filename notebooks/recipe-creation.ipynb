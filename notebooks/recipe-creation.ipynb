{
 "cells": [
  {
   "cell_type": "code",
   "execution_count": 1,
   "id": "13718c71-dfa9-4f5c-89e1-786d2c4d6e40",
   "metadata": {},
   "outputs": [],
   "source": [
    "%load_ext autoreload\n",
    "%autoreload 2"
   ]
  },
  {
   "cell_type": "code",
   "execution_count": 34,
   "id": "6ad45a75-44fd-4b3f-a6f1-c22e035524ca",
   "metadata": {},
   "outputs": [],
   "source": [
    "import xarray as xr\n",
    "from pangeo_forge_recipes.patterns import pattern_from_file_sequence\n",
    "from pangeo_forge_recipes.recipes import XarrayZarrRecipe\n",
    "\n",
    "from pangeo_forge_cordex import logon, recipe_inputs_from_iids, parse_instance_ids\n",
    "\n",
    "\n",
    "def test_recipe_inputs():\n",
    "    iid = 'cordex.output.EUR-11.DMI.ECMWF-ERAINT.evaluation.r1i1p1.HIRHAM5.v1.mon.tas.v20140620'\n",
    "    iid = 'cordex.output.EUR-11.GERICS.ECMWF-ERAINT.evaluation.r1i1p1.REMO2015.v1.day.tas.v20180813'\n",
    "    sslcontext = logon()\n",
    "\n",
    "    recipe_inputs = recipe_inputs_from_iids(iid, sslcontext)\n",
    "\n",
    "    urls = recipe_inputs[iid][\"urls\"]\n",
    "    recipe_kwargs = recipe_inputs[iid][\"recipe_kwargs\"]\n",
    "    pattern_kwargs = recipe_inputs[iid][\"pattern_kwargs\"]\n",
    "\n",
    "    pattern = pattern_from_file_sequence(urls, \"time\", **pattern_kwargs)\n",
    "    recipe = XarrayZarrRecipe(\n",
    "        pattern, xarray_concat_kwargs={\"join\": \"exact\"}, **recipe_kwargs\n",
    "    )\n",
    "\n",
    "    recipe_pruned = recipe.copy_pruned()\n",
    "    run_function = recipe_pruned.to_function()\n",
    "\n",
    "    run_function()\n",
    "\n",
    "    ds = xr.open_zarr(recipe.target_mapper, consolidated=True)\n",
    "    return ds"
   ]
  },
  {
   "cell_type": "code",
   "execution_count": 35,
   "id": "06e87ca4-717e-426a-b97d-47afc4c1f33b",
   "metadata": {},
   "outputs": [
    {
     "data": {
      "text/plain": [
       "['cordex.output.EUR-11.DMI.ECMWF-ERAINT.evaluation.r1i1p1.HIRHAM5.v1.mon.tas.v20140620']"
      ]
     },
     "execution_count": 35,
     "metadata": {},
     "output_type": "execute_result"
    }
   ],
   "source": [
    "def test_parsing():\n",
    "    iids = parse_instance_ids('cordex.output.EUR-11.DMI.ECMWF-ERAINT.evaluation.r1i1p1.HIRHAM5.v1.mon.tas')\n",
    "    return iids\n",
    "\n",
    "test_parsing()"
   ]
  }
 ],
 "metadata": {
  "kernelspec": {
   "display_name": "Python [conda env:pangeo-forge-esgf]",
   "language": "python",
   "name": "conda-env-pangeo-forge-esgf-py"
  },
  "language_info": {
   "codemirror_mode": {
    "name": "ipython",
    "version": 3
   },
   "file_extension": ".py",
   "mimetype": "text/x-python",
   "name": "python",
   "nbconvert_exporter": "python",
   "pygments_lexer": "ipython3",
   "version": "3.10.6"
  }
 },
 "nbformat": 4,
 "nbformat_minor": 5
}
