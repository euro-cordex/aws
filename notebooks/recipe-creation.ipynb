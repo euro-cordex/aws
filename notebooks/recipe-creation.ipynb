{
 "cells": [
  {
   "cell_type": "code",
   "execution_count": 1,
   "id": "13718c71-dfa9-4f5c-89e1-786d2c4d6e40",
   "metadata": {},
   "outputs": [],
   "source": [
    "%load_ext autoreload\n",
    "%autoreload 2"
   ]
  },
  {
   "cell_type": "code",
   "execution_count": 2,
   "id": "6ad45a75-44fd-4b3f-a6f1-c22e035524ca",
   "metadata": {},
   "outputs": [
    {
     "ename": "ModuleNotFoundError",
     "evalue": "No module named 'pangeo_forge_esgf'",
     "output_type": "error",
     "traceback": [
      "\u001b[0;31m---------------------------------------------------------------------------\u001b[0m",
      "\u001b[0;31mModuleNotFoundError\u001b[0m                       Traceback (most recent call last)",
      "Cell \u001b[0;32mIn [2], line 9\u001b[0m\n\u001b[1;32m      6\u001b[0m \u001b[38;5;28;01mfrom\u001b[39;00m \u001b[38;5;21;01mpangeo_forge_recipes\u001b[39;00m\u001b[38;5;21;01m.\u001b[39;00m\u001b[38;5;21;01mrecipes\u001b[39;00m \u001b[38;5;28;01mimport\u001b[39;00m XarrayZarrRecipe, setup_logging\n\u001b[1;32m      7\u001b[0m \u001b[38;5;28;01mfrom\u001b[39;00m \u001b[38;5;21;01mpyesgf\u001b[39;00m\u001b[38;5;21;01m.\u001b[39;00m\u001b[38;5;21;01mlogon\u001b[39;00m \u001b[38;5;28;01mimport\u001b[39;00m LogonManager\n\u001b[0;32m----> 9\u001b[0m \u001b[38;5;28;01mfrom\u001b[39;00m \u001b[38;5;21;01mpangeo_forge_esgf\u001b[39;00m \u001b[38;5;28;01mimport\u001b[39;00m generate_recipe_inputs_from_iids\n\u001b[1;32m     12\u001b[0m \u001b[38;5;28;01masync\u001b[39;00m \u001b[38;5;28;01mdef\u001b[39;00m \u001b[38;5;21mcreate_recipes\u001b[39m(iids, ssl\u001b[38;5;241m=\u001b[39m\u001b[38;5;28;01mNone\u001b[39;00m):\n\u001b[1;32m     14\u001b[0m     recipe_inputs \u001b[38;5;241m=\u001b[39m \u001b[38;5;28;01mawait\u001b[39;00m generate_recipe_inputs_from_iids(iids, ssl\u001b[38;5;241m=\u001b[39mssl)\n",
      "\u001b[0;31mModuleNotFoundError\u001b[0m: No module named 'pangeo_forge_esgf'"
     ]
    }
   ],
   "source": [
    "import asyncio\n",
    "import ssl\n",
    "\n",
    "import xarray as xr\n",
    "from pangeo_forge_recipes.patterns import pattern_from_file_sequence\n",
    "from pangeo_forge_recipes.recipes import XarrayZarrRecipe, setup_logging\n",
    "from pyesgf.logon import LogonManager\n",
    "\n",
    "from pangeo_forge_esgf import generate_recipe_inputs_from_iids\n",
    "\n",
    "\n",
    "async def create_recipes(iids, ssl=None):\n",
    "\n",
    "    recipe_inputs = await generate_recipe_inputs_from_iids(iids, ssl=ssl)\n",
    "\n",
    "    recipes = {}\n",
    "\n",
    "    for iid, recipe_input in recipe_inputs.items():\n",
    "        urls = recipe_input.get(\"urls\", None)\n",
    "        pattern_kwargs = recipe_input.get(\"pattern_kwargs\", {})\n",
    "        # add ssl keyword to fsspec\n",
    "        pattern_kwargs[\"fsspec_open_kwargs\"] = {\"ssl\": sslcontext}\n",
    "        recipe_kwargs = recipe_input.get(\"recipe_kwargs\", {})\n",
    "        pattern = pattern_from_file_sequence(urls, \"time\", **pattern_kwargs)\n",
    "        if urls is not None:\n",
    "            recipes[iid] = XarrayZarrRecipe(\n",
    "                pattern, xarray_concat_kwargs={\"join\": \"exact\"}, **recipe_kwargs\n",
    "            )\n",
    "    print(\"+++Failed iids+++\")\n",
    "    print(list(set(iids) - set(recipes.keys())))\n",
    "    print(\"+++Successful iids+++\")\n",
    "    print(list(recipes.keys()))\n",
    "\n",
    "    return recipes\n",
    "\n",
    "\n",
    "def logon():\n",
    "    manager = LogonManager()\n",
    "    if not manager.is_logged_on():\n",
    "        myproxy_host = \"esgf-data.dkrz.de\"\n",
    "        manager.logon(hostname=myproxy_host, interactive=True, bootstrap=True)\n",
    "\n",
    "    # create SSL context\n",
    "    sslcontext = ssl.create_default_context(purpose=ssl.Purpose.SERVER_AUTH)\n",
    "    sslcontext.load_verify_locations(capath=manager.esgf_certs_dir)\n",
    "    sslcontext.load_cert_chain(manager.esgf_credentials)\n",
    "    return sslcontext\n",
    "\n",
    "\n",
    "# iids = [\n",
    "#     \"cordex-reklies.output.EUR-11.GERICS.MIROC-MIROC5.historical.r1i1p1.REMO2015.v1.mon.tas\",\n",
    "#     \"cordex.output.EUR-11.MPI-CSC.MPI-M-MPI-ESM-LR.historical.r1i1p1.REMO2009.v1.mon.tas\",\n",
    "#     \"cordex-adjust.bias-adjusted-output.EUR-11.MPI-CSC.MPI-M-MPI-ESM-LR.rcp45.r1i1p1.REMO2009.v1-SMHI-DBS45-MESAN-1989-2010.mon.tasAdjust.v20160919\",\n",
    "#     \"cordex-esd.output.EUR-11.DWD.MPI-M-MPI-ESM-LR.rcp45.r1i1p1.EPISODES2018.v1-r1.mon.tas.v20180409\",\n",
    "# ]\n",
    "\n",
    "iids = [\n",
    "    \"cordex.output.EUR-11.GERICS.ECMWF-ERAINT.evaluation.r1i1p1.REMO2015.v1.mon.tas.v20180813\",\n",
    "]\n",
    "\n",
    "sslcontext = logon()"
   ]
  },
  {
   "cell_type": "code",
   "execution_count": null,
   "id": "aad38aaf-56cd-449d-b210-5d81ac335be5",
   "metadata": {},
   "outputs": [],
   "source": []
  }
 ],
 "metadata": {
  "kernelspec": {
   "display_name": "pangeo-forge-esgf",
   "language": "python",
   "name": "pangeo-forge-esgf"
  },
  "language_info": {
   "codemirror_mode": {
    "name": "ipython",
    "version": 3
   },
   "file_extension": ".py",
   "mimetype": "text/x-python",
   "name": "python",
   "nbconvert_exporter": "python",
   "pygments_lexer": "ipython3",
   "version": "3.9.15"
  }
 },
 "nbformat": 4,
 "nbformat_minor": 5
}
