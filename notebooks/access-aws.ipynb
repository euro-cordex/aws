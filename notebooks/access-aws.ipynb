{
 "cells": [
  {
   "cell_type": "code",
   "execution_count": 4,
   "id": "9c18d473-7ac4-429b-9fcf-4c924b92959d",
   "metadata": {},
   "outputs": [
    {
     "ename": "NameError",
     "evalue": "name 'fsspec' is not defined",
     "output_type": "error",
     "traceback": [
      "\u001b[0;31m---------------------------------------------------------------------------\u001b[0m",
      "\u001b[0;31mNameError\u001b[0m                                 Traceback (most recent call last)",
      "Cell \u001b[0;32mIn [4], line 7\u001b[0m\n\u001b[1;32m      4\u001b[0m cordex \u001b[38;5;241m=\u001b[39m \u001b[38;5;124m\"\u001b[39m\u001b[38;5;124ms3://euro-cordex/data/cordex-reklies.output.EUR-11.GERICS.CCCma-CanESM2.historical.r1i1p1.REMO2015.v1.mon.tas.v20170329.zarr/\u001b[39m\u001b[38;5;124m\"\u001b[39m\n\u001b[1;32m      5\u001b[0m \u001b[38;5;66;03m#ds = xr.open_zarr(cmip6)\u001b[39;00m\n\u001b[1;32m      6\u001b[0m ts_ds \u001b[38;5;241m=\u001b[39m xr\u001b[38;5;241m.\u001b[39mopen_zarr(\n\u001b[0;32m----> 7\u001b[0m   store\u001b[38;5;241m=\u001b[39mfsspec\u001b[38;5;241m.\u001b[39mget_mapper(cordex, anon\u001b[38;5;241m=\u001b[39m\u001b[38;5;28;01mTrue\u001b[39;00m),\n\u001b[1;32m      8\u001b[0m   consolidated\u001b[38;5;241m=\u001b[39m\u001b[38;5;28;01mTrue\u001b[39;00m\n\u001b[1;32m      9\u001b[0m )\n\u001b[1;32m     10\u001b[0m ts_ds\n",
      "\u001b[0;31mNameError\u001b[0m: name 'fsspec' is not defined"
     ]
    }
   ],
   "source": [
    "import xarray as xr\n",
    "\n",
    "cmip6 = \"s3://cmip6-pds/CMIP6/HighResMIP/MOHC/HadGEM3-GC31-MM/highresSST-present/r1i1p1f1/Amon/ts/gn/v20170818/\"\n",
    "cordex = \"s3://euro-cordex/data/cordex-reklies.output.EUR-11.GERICS.CCCma-CanESM2.historical.r1i1p1.REMO2015.v1.mon.tas.v20170329.zarr/\"\n",
    "#ds = xr.open_zarr(cmip6)\n",
    "ts_ds = xr.open_zarr(\n",
    "  store=fsspec.get_mapper(cordex, anon=True),\n",
    "  consolidated=True\n",
    ")\n",
    "ts_ds"
   ]
  },
  {
   "cell_type": "code",
   "execution_count": null,
   "id": "84b96463-b4be-4b32-bff0-dfc285a1a2de",
   "metadata": {},
   "outputs": [],
   "source": []
  }
 ],
 "metadata": {
  "kernelspec": {
   "display_name": "pangeo-forge-esgf",
   "language": "python",
   "name": "pangeo-forge-esgf"
  },
  "language_info": {
   "codemirror_mode": {
    "name": "ipython",
    "version": 3
   },
   "file_extension": ".py",
   "mimetype": "text/x-python",
   "name": "python",
   "nbconvert_exporter": "python",
   "pygments_lexer": "ipython3",
   "version": "3.9.15"
  }
 },
 "nbformat": 4,
 "nbformat_minor": 5
}
