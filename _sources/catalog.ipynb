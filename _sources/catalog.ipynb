{
 "cells": [
  {
   "cell_type": "markdown",
   "id": "4f757ed8-13d1-4077-91d6-20097f56ea91",
   "metadata": {
    "tags": []
   },
   "source": [
    "# Exploring the catalog"
   ]
  },
  {
   "cell_type": "code",
   "execution_count": null,
   "id": "2e379d63-4b7e-4540-ba4a-8b9dec4f76f9",
   "metadata": {},
   "outputs": [],
   "source": [
    "from dask.distributed import Client\n",
    "\n",
    "client = Client()\n",
    "client"
   ]
  },
  {
   "cell_type": "markdown",
   "id": "1bfa388f-abf3-441e-ac5e-85812cd3b7a9",
   "metadata": {},
   "source": [
    "Open the Intake ESM collection:"
   ]
  },
  {
   "cell_type": "code",
   "execution_count": null,
   "id": "f2b29b11-3f98-401f-94dd-f244272a034a",
   "metadata": {},
   "outputs": [],
   "source": [
    "import cf_xarray as cfxr\n",
    "import intake\n",
    "import xarray as xr\n",
    "\n",
    "url = \"https://euro-cordex.s3.eu-central-1.amazonaws.com/catalog/CORDEX-CMIP5.json\"\n",
    "cat = intake.open_esm_datastore(url)"
   ]
  },
  {
   "cell_type": "code",
   "execution_count": null,
   "id": "1201eec3-b01c-44d5-a440-cf904214c597",
   "metadata": {},
   "outputs": [],
   "source": [
    "cat"
   ]
  },
  {
   "cell_type": "code",
   "execution_count": null,
   "id": "948aac6c-c8af-4cfb-ad4d-123166f4c978",
   "metadata": {},
   "outputs": [],
   "source": [
    "for col in cat.df[\n",
    "    [\n",
    "        \"project_id\",\n",
    "        \"CORDEX_domain\",\n",
    "        \"institute_id\",\n",
    "        \"model_id\",\n",
    "        \"driving_model_id\",\n",
    "        \"frequency\",\n",
    "        \"variable_id\",\n",
    "    ]\n",
    "]:\n",
    "    print(cat.df[col].unique())"
   ]
  },
  {
   "cell_type": "markdown",
   "id": "e9bd3a1f-8655-431b-8a04-6c964916509d",
   "metadata": {},
   "source": [
    "Human readable content"
   ]
  },
  {
   "cell_type": "code",
   "execution_count": null,
   "id": "fa62e058-54b6-4c16-a58d-c20842185334",
   "metadata": {},
   "outputs": [],
   "source": [
    "cat.df.groupby(\n",
    "    [\n",
    "        \"institute_id\",\n",
    "        \"model_id\",\n",
    "        \"driving_model_id\",\n",
    "        \"CORDEX_domain\",\n",
    "        \"experiment_id\",\n",
    "        \"member\",\n",
    "        \"frequency\",\n",
    "        \"version\",\n",
    "    ]\n",
    ")[\"variable_id\"].apply(list).to_frame()"
   ]
  },
  {
   "cell_type": "code",
   "execution_count": null,
   "id": "71f32b4e-8ebe-4172-9738-b8434f84f3ab",
   "metadata": {},
   "outputs": [],
   "source": [
    "search = cat.search(experiment_id=\"historical\", variable_id=\"tas\")"
   ]
  },
  {
   "cell_type": "code",
   "execution_count": null,
   "id": "c7b672c6-8aea-4e37-ab4f-01c105523aa7",
   "metadata": {},
   "outputs": [],
   "source": [
    "dsets = search.to_dataset_dict(\n",
    "    xarray_open_kwargs={\"consolidated\": True, \"decode_times\": True, \"use_cftime\": True},\n",
    "    storage_options={\"anon\": True},\n",
    ")"
   ]
  },
  {
   "cell_type": "code",
   "execution_count": null,
   "id": "d03acbb5-76d1-42fe-bc10-2647f2dc3a1d",
   "metadata": {},
   "outputs": [],
   "source": [
    "list(dsets.values())[0].isel(time=0).tas.plot()"
   ]
  }
 ],
 "metadata": {
  "kernelspec": {
   "display_name": "Python 3",
   "language": "python",
   "name": "python3"
  },
  "language_info": {
   "codemirror_mode": {
    "name": "ipython",
    "version": 3
   },
   "file_extension": ".py",
   "mimetype": "text/x-python",
   "name": "python",
   "nbconvert_exporter": "python",
   "pygments_lexer": "ipython3",
   "version": "3.9"
  }
 },
 "nbformat": 4,
 "nbformat_minor": 5
}
